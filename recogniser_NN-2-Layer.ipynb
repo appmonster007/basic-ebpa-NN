{
 "cells": [
  {
   "cell_type": "code",
   "execution_count": 1,
   "metadata": {},
   "outputs": [],
   "source": [
    "import numpy as np\n",
    "from matplotlib import image, pyplot\n",
    "from PIL import Image, ImageOps\n",
    "import glob\n",
    "import os"
   ]
  },
  {
   "cell_type": "code",
   "execution_count": 2,
   "metadata": {},
   "outputs": [],
   "source": [
    "def loadDataSet(folderPath, fileName):\n",
    "    dataset = []\n",
    "    images = []\n",
    "    for filename in glob.glob(folderPath+fileName):\n",
    "        image = ImageOps.grayscale(Image.open(filename)).resize((10,10)).convert('L')\n",
    "        images.append((image, filename))\n",
    "        makeFeatureMatrix = (np.array(image)//255).round(0).flatten()\n",
    "        dataset.append(makeFeatureMatrix)\n",
    "    return dataset, images"
   ]
  },
  {
   "cell_type": "code",
   "execution_count": 3,
   "metadata": {},
   "outputs": [],
   "source": [
    "def getInputFeature(folderPath, trainingData):\n",
    "    X=[]\n",
    "    outputMatrix = []\n",
    "    images = []\n",
    "    outputType = np.identity(len(folderPath), dtype=int)\n",
    "    filename = \"*png\"\n",
    "    for i in range(len(folderPath)):\n",
    "        dataset, allimages = loadDataSet(folderPath[i], filename)\n",
    "        X.extend(dataset)\n",
    "        images.extend(allimages)\n",
    "        outputMatrix.extend([outputType[i] for j in range(len(dataset))])\n",
    "    if(trainingData):\n",
    "        return images, np.array(X), np.array(outputMatrix)\n",
    "    else:\n",
    "        return images, np.array(X)"
   ]
  },
  {
   "cell_type": "markdown",
   "metadata": {},
   "source": [
    "### Training dataset images\n",
    "\n",
    "These can be found in folder mentioned in the list, below, named folderPath"
   ]
  },
  {
   "cell_type": "code",
   "execution_count": 4,
   "metadata": {
    "scrolled": false
   },
   "outputs": [
    {
     "name": "stdout",
     "output_type": "stream",
     "text": [
      "Input:\n",
      "\n",
      "[0 1 1 1 1 1 1 1 1 1 1 1 1 1 1]\n",
      "[0 1 1 1 1 1 1 1 1 1 1 1 1 1 1]\n",
      "[0 1 1 1 1 1 1 1 1 1 1 1 1 1 1]\n",
      "[0 1 1 1 1 1 1 1 1 1 1 1 1 1 1]\n",
      "[0 1 1 0 0 1 1 1 1 1 1 1 1 1 1]\n",
      "[0 1 1 0 0 1 1 1 1 1 1 1 1 1 1]\n",
      "[0 1 1 0 1 1 1 0 0 1 1 1 1 1 1]\n",
      "[0 1 1 0 1 1 1 1 0 1 1 1 1 1 1]\n",
      "[0 1 1 1 1 1 1 1 1 1 1 1 1 1 1]\n",
      "[1 1 1 1 1 1 1 1 1 1 1 1 1 1 1]\n",
      "[0 0 1 1 1 1 1 1 1 1 1 1 1 1 1]\n",
      "[0 0 0 1 1 1 1 1 1 1 1 1 1 1 1]\n",
      "[0 0 0 0 0 0 0 1 0 0 1 1 1 1 1]\n",
      "[0 0 0 0 0 0 1 0 0 1 0 1 0 1 0]\n",
      "[0 0 0 0 0 1 1 1 1 1 0 1 0 0 0]\n",
      "[0 0 0 0 0 1 1 0 0 0 1 1 1 1 1]\n",
      "[0 0 0 0 0 1 0 0 0 0 1 0 1 1 1]\n",
      "[0 0 0 0 1 0 0 1 0 0 1 0 1 1 1]\n",
      "[0 0 1 0 1 0 1 1 1 1 1 1 1 1 1]\n",
      "[0 1 1 1 1 1 1 1 1 1 1 1 1 1 1]\n",
      "[0 0 1 1 1 1 1 1 1 1 1 1 1 1 1]\n",
      "[0 0 0 0 1 1 1 1 1 1 1 1 1 1 1]\n",
      "[0 0 0 0 0 0 0 0 0 0 1 1 1 1 1]\n",
      "[0 0 0 0 0 0 0 0 0 0 0 1 0 0 0]\n",
      "[0 0 0 0 0 0 1 0 1 1 0 1 0 0 0]\n",
      "[0 0 0 1 0 1 1 0 0 0 1 0 1 0 0]\n",
      "[0 0 0 1 0 0 0 0 0 0 1 0 1 1 1]\n",
      "[0 0 0 0 0 0 0 1 1 0 1 0 1 1 1]\n",
      "[0 0 0 0 1 0 1 1 1 1 1 1 1 1 1]\n",
      "[0 0 1 1 1 1 1 1 1 1 1 1 1 1 1]\n",
      "[1 0 1 1 1 1 1 1 1 1 1 1 1 1 1]\n",
      "[0 0 0 0 1 1 1 1 1 1 1 1 1 1 1]\n",
      "[0 0 0 0 0 0 0 1 0 0 1 1 1 1 1]\n",
      "[1 0 1 0 0 0 0 0 0 0 0 1 0 0 0]\n",
      "[1 0 1 0 0 0 0 0 0 1 0 1 0 0 0]\n",
      "[1 1 1 1 0 1 1 0 0 0 0 0 0 0 0]\n",
      "[0 1 0 0 0 0 0 0 0 0 1 0 1 0 0]\n",
      "[0 0 0 0 0 0 0 1 1 0 1 0 1 1 1]\n",
      "[0 0 0 0 1 1 1 1 1 1 1 1 1 1 1]\n",
      "[0 0 1 1 1 1 1 1 1 1 1 1 1 1 1]\n",
      "[0 1 1 1 1 1 1 1 1 1 1 1 1 1 1]\n",
      "[0 1 0 1 1 0 1 1 1 1 1 1 1 1 1]\n",
      "[0 0 0 1 0 0 0 1 0 0 1 1 0 0 1]\n",
      "[0 0 0 0 0 0 0 0 0 0 0 0 0 0 0]\n",
      "[0 0 0 0 0 0 0 0 0 0 0 0 0 0 0]\n",
      "[0 0 0 0 0 0 0 0 0 0 0 0 0 0 0]\n",
      "[0 0 0 0 0 0 0 0 0 0 1 0 1 0 0]\n",
      "[0 0 0 0 1 1 0 1 1 0 1 0 1 1 1]\n",
      "[0 0 0 1 1 1 1 1 1 1 1 0 1 1 1]\n",
      "[1 0 1 1 1 1 1 1 1 1 1 1 1 1 1]\n",
      "[0 1 1 1 1 1 1 1 1 1 1 1 1 1 1]\n",
      "[0 1 0 1 1 0 1 1 1 1 1 1 1 1 1]\n",
      "[0 0 0 1 0 0 0 0 0 0 1 1 0 0 1]\n",
      "[0 0 0 0 0 1 0 0 0 0 0 0 0 0 0]\n",
      "[0 0 0 0 0 0 0 0 0 0 0 0 0 0 0]\n",
      "[0 0 0 0 0 0 0 0 0 0 0 0 0 0 0]\n",
      "[0 0 0 0 1 0 0 1 0 0 1 1 1 0 0]\n",
      "[0 0 0 1 1 1 0 1 1 0 1 0 1 0 0]\n",
      "[1 0 1 1 1 1 1 1 1 1 1 0 1 1 0]\n",
      "[1 1 1 1 1 1 1 1 1 1 1 1 1 1 1]\n",
      "[0 1 1 1 1 1 1 1 1 1 1 1 1 1 1]\n",
      "[0 1 0 1 1 0 1 0 1 1 0 1 1 1 1]\n",
      "[0 0 0 1 1 0 0 0 1 0 0 0 0 0 1]\n",
      "[0 0 0 0 0 1 0 0 0 0 0 0 0 0 0]\n",
      "[0 0 0 0 0 0 1 0 0 0 0 0 0 0 0]\n",
      "[0 0 0 1 0 0 0 0 0 0 0 0 0 0 0]\n",
      "[0 0 1 1 1 0 0 1 0 0 0 0 1 0 0]\n",
      "[1 1 1 1 1 1 0 1 1 0 1 0 1 0 0]\n",
      "[1 1 1 1 1 1 1 1 1 1 1 0 1 0 0]\n",
      "[1 1 1 1 1 1 1 1 1 1 1 1 1 1 1]\n",
      "[1 1 1 1 1 1 1 1 1 1 1 1 1 1 1]\n",
      "[0 1 0 0 1 0 1 0 1 1 0 0 1 1 1]\n",
      "[0 0 0 0 1 0 0 0 1 0 0 0 0 0 1]\n",
      "[0 0 0 0 0 1 0 1 0 0 0 0 0 0 0]\n",
      "[1 0 1 0 0 1 1 1 0 1 1 1 1 1 0]\n",
      "[1 1 1 1 0 1 0 1 1 0 0 1 0 1 1]\n",
      "[1 1 1 1 1 1 0 1 0 0 0 0 0 1 0]\n",
      "[1 1 1 1 1 1 0 1 1 0 1 0 1 0 0]\n",
      "[1 1 1 1 1 1 1 1 1 1 1 0 1 0 0]\n",
      "[1 1 1 1 1 1 1 1 1 1 1 1 1 1 1]\n",
      "[1 1 1 1 1 1 1 1 1 1 1 1 1 1 1]\n",
      "[0 1 0 0 1 1 1 1 1 1 1 0 1 1 1]\n",
      "[0 0 0 0 1 1 0 1 1 0 1 0 1 1 1]\n",
      "[0 0 0 0 1 1 0 1 0 0 1 1 1 1 1]\n",
      "[1 0 1 1 1 1 1 1 0 1 1 1 1 1 1]\n",
      "[1 1 1 1 1 1 1 1 1 0 1 1 0 1 1]\n",
      "[1 1 1 1 1 1 0 1 1 0 1 1 0 1 1]\n",
      "[1 1 1 1 1 1 0 1 1 0 1 0 0 1 0]\n",
      "[1 1 1 1 1 1 1 1 1 1 1 0 1 1 0]\n",
      "[1 1 1 1 1 1 1 1 1 1 1 1 1 1 1]\n",
      "[1 1 1 1 1 1 1 1 1 1 1 1 1 1 1]\n",
      "[0 1 0 1 1 1 1 1 1 1 1 1 1 1 1]\n",
      "[0 0 0 1 1 1 0 1 1 0 1 1 1 1 1]\n",
      "[1 0 1 1 1 1 0 1 1 0 1 1 1 1 1]\n",
      "[1 1 1 1 1 1 1 1 1 1 1 1 1 1 1]\n",
      "[1 1 1 1 1 1 1 1 1 1 1 1 1 1 1]\n",
      "[1 1 1 1 1 1 1 1 1 1 1 1 0 1 1]\n",
      "[1 1 1 1 1 1 1 1 1 1 1 0 0 1 1]\n",
      "[1 1 1 1 1 1 1 1 1 1 1 0 1 1 1]\n",
      "[1 1 1 1 1 1 1 1 1 1 1 1 1 1 1]\n",
      "Output:\n",
      " [[1 1 1 1 1 0 0 0 0 0 0 0 0 0 0]\n",
      " [0 0 0 0 0 1 1 1 1 1 0 0 0 0 0]\n",
      " [0 0 0 0 0 0 0 0 0 0 1 1 1 1 1]]\n"
     ]
    }
   ],
   "source": [
    "folderPath = [\"traindb/p/\", \"traindb/n/\", \"traindb/a/\"]\n",
    "images, inputMatrix, outputMatrix = getInputFeature(folderPath, True)\n",
    "inputMatrix = inputMatrix.T\n",
    "outputMatrix = (outputMatrix).T\n",
    "\n",
    "print(\"Input:\\n\")\n",
    "for input in inputMatrix:\n",
    "    print(input)\n",
    "print(\"Output:\\n\",outputMatrix)"
   ]
  },
  {
   "cell_type": "code",
   "execution_count": 5,
   "metadata": {},
   "outputs": [],
   "source": [
    "def initParameters(inpSize, outSize):\n",
    "    np.random.seed(1)\n",
    "    bias = np.zeros(shape=(outSize, 1))\n",
    "    weights = np.random.randn(outSize, inpSize) * 0.01\n",
    "    \n",
    "    assert(bias.shape == (outSize, 1))\n",
    "    assert(weights.shape == (outSize, inpSize))\n",
    "    \n",
    "    return [weights, bias]"
   ]
  },
  {
   "cell_type": "markdown",
   "metadata": {},
   "source": [
    "## Initialize parameters according to architechture of Neural Network\n",
    "\n",
    "\n",
    "since this is two layer model, which consists of 1 hidden layer \n",
    "hence model will be structured as 100(input nodes) --> 10(hidden nodes) --> 3(output nodes)"
   ]
  },
  {
   "cell_type": "code",
   "execution_count": 6,
   "metadata": {
    "scrolled": false
   },
   "outputs": [
    {
     "name": "stdout",
     "output_type": "stream",
     "text": [
      "Weights, Bias for layer 1: [[ 1.62434536e-02 -6.11756414e-03 -5.28171752e-03 -1.07296862e-02\n",
      "   8.65407629e-03 -2.30153870e-02  1.74481176e-02 -7.61206901e-03\n",
      "   3.19039096e-03 -2.49370375e-03  1.46210794e-02 -2.06014071e-02\n",
      "  -3.22417204e-03 -3.84054355e-03  1.13376944e-02 -1.09989127e-02\n",
      "  -1.72428208e-03 -8.77858418e-03  4.22137467e-04  5.82815214e-03\n",
      "  -1.10061918e-02  1.14472371e-02  9.01590721e-03  5.02494339e-03\n",
      "   9.00855949e-03 -6.83727859e-03 -1.22890226e-03 -9.35769434e-03\n",
      "  -2.67888080e-03  5.30355467e-03 -6.91660752e-03 -3.96753527e-03\n",
      "  -6.87172700e-03 -8.45205641e-03 -6.71246131e-03 -1.26645989e-04\n",
      "  -1.11731035e-02  2.34415698e-03  1.65980218e-02  7.42044161e-03\n",
      "  -1.91835552e-03 -8.87628964e-03 -7.47158294e-03  1.69245460e-02\n",
      "   5.08077548e-04 -6.36995647e-03  1.90915485e-03  2.10025514e-02\n",
      "   1.20158952e-03  6.17203110e-03  3.00170320e-03 -3.52249846e-03\n",
      "  -1.14251820e-02 -3.49342722e-03 -2.08894233e-03  5.86623191e-03\n",
      "   8.38983414e-03  9.31102081e-03  2.85587325e-03  8.85141164e-03\n",
      "  -7.54397941e-03  1.25286816e-02  5.12929820e-03 -2.98092835e-03\n",
      "   4.88518147e-03 -7.55717130e-04  1.13162939e-02  1.51981682e-02\n",
      "   2.18557541e-02 -1.39649634e-02 -1.44411381e-02 -5.04465863e-03\n",
      "   1.60037069e-03  8.76168921e-03  3.15634947e-03 -2.02220122e-02\n",
      "  -3.06204013e-03  8.27974643e-03  2.30094735e-03  7.62011180e-03\n",
      "  -2.22328143e-03 -2.00758069e-03  1.86561391e-03  4.10051647e-03\n",
      "   1.98299720e-03  1.19008646e-03 -6.70662286e-03  3.77563786e-03\n",
      "   1.21821271e-03  1.12948391e-02  1.19891788e-02  1.85156417e-03\n",
      "  -3.75284950e-03 -6.38730407e-03  4.23494354e-03  7.73400683e-04\n",
      "  -3.43853676e-03  4.35968568e-04 -6.20000844e-03  6.98032034e-03]\n",
      " [-4.47128565e-03  1.22450770e-02  4.03491642e-03  5.93578523e-03\n",
      "  -1.09491185e-02  1.69382433e-03  7.40556451e-03 -9.53700602e-03\n",
      "  -2.66218506e-03  3.26145467e-04 -1.37311732e-02  3.15159392e-03\n",
      "   8.46160648e-03 -8.59515941e-03  3.50545979e-03 -1.31228341e-02\n",
      "  -3.86955093e-04 -1.61577235e-02  1.12141771e-02  4.08900538e-03\n",
      "  -2.46169559e-04 -7.75161619e-03  1.27375593e-02  1.96710175e-02\n",
      "  -1.85798186e-02  1.23616403e-02  1.62765075e-02  3.38011697e-03\n",
      "  -1.19926803e-02  8.63345318e-03 -1.80920302e-03 -6.03920628e-03\n",
      "  -1.23005814e-02  5.50537496e-03  7.92806866e-03 -6.23530730e-03\n",
      "   5.20576337e-03 -1.14434139e-02  8.01861032e-03  4.65672984e-04\n",
      "  -1.86569772e-03 -1.01745873e-03  8.68886157e-03  7.50411640e-03\n",
      "   5.29465324e-03  1.37701210e-03  7.78211279e-04  6.18380262e-03\n",
      "   2.32494559e-03  6.82551407e-03 -3.10116774e-03 -2.43483776e-02\n",
      "   1.03882460e-02  2.18697965e-02  4.41364444e-03 -1.00155233e-03\n",
      "  -1.36444744e-03 -1.19054188e-03  1.74094083e-04 -1.12201873e-02\n",
      "  -5.17094458e-03 -9.97026828e-03  2.48799161e-03 -2.96641152e-03\n",
      "   4.95211324e-03 -1.74703160e-03  9.86335188e-03  2.13533901e-03\n",
      "   2.19069973e-02 -1.89636092e-02 -6.46916688e-03  9.01486892e-03\n",
      "   2.52832571e-02 -2.48634778e-03  4.36689932e-04 -2.26314243e-03\n",
      "   1.33145711e-02 -2.87307863e-03  6.80069840e-03 -3.19801599e-03\n",
      "  -1.27255876e-02  3.13547720e-03  5.03184813e-03  1.29322588e-02\n",
      "  -1.10447026e-03 -6.17362064e-03  5.62761097e-03  2.40737092e-03\n",
      "   2.80665077e-03 -7.31127037e-04  1.16033857e-02  3.69492716e-03\n",
      "   1.90465871e-02  1.11105670e-02  6.59049796e-03 -1.62743834e-02\n",
      "   6.02319280e-03  4.20282204e-03  8.10951673e-03  1.04444209e-02]\n",
      " [-4.00878192e-03  8.24005618e-03 -5.62305431e-03  1.95487808e-02\n",
      "  -1.33195167e-02 -1.76068856e-02 -1.65072127e-02 -8.90555584e-03\n",
      "  -1.11911540e-02  1.95607890e-02 -3.26499498e-03 -1.34267579e-02\n",
      "   1.11438298e-02 -5.86523939e-03 -1.23685338e-02  8.75838928e-03\n",
      "   6.23362177e-03 -4.34956683e-03  1.40754000e-02  1.29101580e-03\n",
      "   1.61694960e-02  5.02740882e-03  1.55880554e-02  1.09402696e-03\n",
      "  -1.21974440e-02  2.44936865e-02 -5.45774168e-03 -1.98837863e-03\n",
      "  -7.00398505e-03 -2.03394449e-03  2.42669441e-03  2.01830179e-03\n",
      "   6.61020288e-03  1.79215821e-02 -1.20464572e-03 -1.23312074e-02\n",
      "  -1.18231813e-02 -6.65754518e-03 -1.67419581e-02  8.25029824e-03\n",
      "  -4.98213564e-03 -3.10984978e-03 -1.89148284e-05 -1.39662042e-02\n",
      "  -8.61316361e-03  6.74711526e-03  6.18539131e-03 -4.43171931e-03\n",
      "   1.81053491e-02 -1.30572692e-02 -3.44987210e-03 -2.30839743e-03\n",
      "  -2.79308500e-02  1.93752881e-02  3.66332015e-03 -1.04458938e-02\n",
      "   2.05117344e-02  5.85662000e-03  4.29526140e-03 -6.06998398e-03\n",
      "   1.06222724e-03 -1.52568032e-02  7.95026094e-03 -3.74438319e-03\n",
      "   1.34048197e-03  1.20205486e-02  2.84748111e-03  2.62467445e-03\n",
      "   2.76499305e-03 -7.33271604e-03  8.36004719e-03  1.54335911e-02\n",
      "   7.58805660e-03  8.84908814e-03 -8.77281519e-03 -8.67787223e-03\n",
      "  -1.44087602e-02  1.23225307e-02 -2.54179868e-03  1.39984394e-02\n",
      "  -7.81911683e-03 -4.37508983e-03  9.54250872e-04  9.21450069e-03\n",
      "   6.07501958e-04  2.11124755e-03  1.65275673e-04  1.77187720e-03\n",
      "  -1.11647002e-02  8.09271010e-04 -1.86578994e-03 -5.68244809e-04\n",
      "   4.92336556e-03 -6.80678141e-03 -8.45080274e-04 -2.97361883e-03\n",
      "   4.17302005e-03  7.84770651e-03 -9.55425262e-03  5.85910431e-03]\n",
      " [ 2.06578332e-02 -1.47115693e-02 -8.30171895e-03 -8.80577600e-03\n",
      "  -2.79097722e-03  1.62284909e-02  1.33526763e-04 -6.94693595e-03\n",
      "   6.21803504e-03 -5.99804531e-03  1.12341216e-02  3.05267040e-03\n",
      "   1.38877940e-02 -6.61344243e-03  3.03085711e-02  8.24584625e-03\n",
      "   6.54580153e-03 -5.11884476e-04 -7.25597119e-03 -8.67768678e-03\n",
      "  -1.35977326e-03 -7.97269785e-03  2.82675712e-03 -8.26097432e-03\n",
      "   6.21082701e-03  9.56121704e-03 -7.05840507e-03  1.19268607e-02\n",
      "  -2.37941936e-03  1.15528789e-02  4.38166347e-03  1.12232832e-02\n",
      "  -9.97019796e-03 -1.06793987e-03  1.45142926e-02 -6.18036848e-03\n",
      "  -2.03720123e-02 -1.94258918e-02 -2.50644065e-02 -2.11416392e-02\n",
      "  -4.11639163e-03  1.27852808e-02 -4.42229280e-03  3.23527354e-03\n",
      "  -1.09991490e-03  8.54894544e-05 -1.68198840e-03 -1.74180344e-03\n",
      "   4.61164100e-03 -1.17598267e-02  1.01012718e-02  9.20017933e-03\n",
      "  -1.95057341e-03  8.05393424e-03 -7.01344426e-03 -5.37223024e-03\n",
      "   1.56263850e-03 -1.90221025e-03 -4.48738033e-03 -6.72448039e-03\n",
      "  -5.57494722e-03  9.39168744e-03 -1.94332341e-02  3.52494364e-03\n",
      "  -2.36436952e-03  7.27813500e-03  5.15073614e-03 -2.78253447e-02\n",
      "   5.84646610e-03  3.24274243e-03  2.18628366e-04 -4.68673816e-03\n",
      "   8.53281222e-03 -4.13029310e-03  1.83471763e-02  5.64382855e-03\n",
      "   2.13782807e-02 -7.85533997e-03 -1.75592564e-02  7.14789597e-03\n",
      "   8.52704062e-03  3.53600971e-04 -1.53879325e-02 -4.47895185e-03\n",
      "   6.17985534e-03 -1.84176326e-03 -1.15985185e-03 -1.75458969e-03\n",
      "  -9.33914656e-03 -5.33020326e-03 -1.42655542e-02  1.76795995e-02\n",
      "  -4.75372875e-03  4.77610182e-03 -1.02188594e-02  7.94528240e-03\n",
      "  -1.87316098e-02  9.20615118e-03 -3.53679249e-04  2.11060505e-02]\n",
      " [-1.30653407e-02  7.63804802e-04  3.67231814e-03  1.23289919e-02\n",
      "  -4.22856961e-03  8.64644065e-04 -2.14246673e-02 -8.30168864e-03\n",
      "   4.51615951e-03  1.10417433e-02 -2.81736269e-03  2.05635552e-02\n",
      "   1.76024923e-02 -6.06524918e-04 -2.41350300e-02 -1.77756638e-02\n",
      "  -7.77858827e-03  1.11584111e-02  3.10272288e-03 -2.09424782e-02\n",
      "  -2.28765829e-03  1.61336137e-02 -3.74804687e-03 -7.49969617e-03\n",
      "   2.05462410e-02  5.34095368e-04 -4.79157099e-03  3.50167159e-03\n",
      "   1.71647264e-04 -4.29142278e-03  1.20845633e-02  1.11570180e-02\n",
      "   8.40861558e-03 -1.02887218e-03  1.14690038e-02 -4.97025792e-04\n",
      "   4.66643267e-03  1.03368687e-02  8.08844360e-03  1.78975468e-02\n",
      "   4.51284016e-03 -1.68405999e-02 -1.16017010e-02  1.35010682e-02\n",
      "  -3.31283170e-03  3.86539145e-03 -8.51455657e-03  1.00088142e-02\n",
      "  -3.84832249e-03  1.45810824e-02 -5.32234021e-03  1.11813340e-02\n",
      "   6.74396105e-03 -7.22391905e-03  1.09899633e-02 -9.01634490e-03\n",
      "  -8.22467189e-03  7.21711292e-03 -6.25342001e-03 -5.93843067e-03\n",
      "  -3.43900709e-03 -1.00016919e-02  1.04499441e-02  6.08514698e-03\n",
      "  -6.93286967e-04 -1.08392067e-03  4.50155513e-03  1.76533510e-02\n",
      "   8.70969803e-03 -5.08457134e-03  7.77419205e-03 -1.18771172e-03\n",
      "  -1.98998184e-03  1.86647138e-02 -4.18937898e-03 -4.79184915e-03\n",
      "  -1.95210529e-02 -1.40232915e-02  4.51122939e-03 -6.94920901e-03\n",
      "   5.15413802e-03 -1.11487105e-02 -7.67309826e-03  6.74570707e-03\n",
      "   1.46089238e-02  5.92472801e-03  1.19783084e-02  1.70459417e-02\n",
      "   1.04008915e-02 -9.18440038e-03 -1.05344713e-03  6.30195671e-03\n",
      "  -4.14846901e-03  4.51946037e-03 -1.57915629e-02 -8.28627979e-03\n",
      "   5.28879746e-03 -2.23708651e-02 -1.10771250e-02 -1.77183179e-04]\n",
      " [-1.71939447e-02  5.71209961e-04 -7.99547491e-03 -2.91594596e-03\n",
      "  -2.58982853e-03  1.89293198e-03 -5.63788735e-03  8.96864073e-04\n",
      "  -6.01156801e-03  5.56073510e-03  1.69380911e-02  1.96869779e-03\n",
      "   1.69869255e-03 -1.16400797e-02  6.93366226e-03 -7.58067329e-03\n",
      "  -8.08847196e-03  5.57439453e-03  1.81038744e-03  1.10717545e-02\n",
      "   1.44287693e-02 -5.39681562e-03  1.28376990e-03  1.76041518e-02\n",
      "   9.66539250e-03  7.13049050e-03  1.30620607e-02 -6.04602969e-03\n",
      "   6.36583409e-03  1.40925339e-02  1.62091229e-02 -8.06184817e-03\n",
      "  -2.51674208e-03  3.82715174e-03 -2.88997343e-03 -3.91816240e-03\n",
      "   6.84001328e-03 -3.53409983e-03 -1.78791289e-02  3.61847316e-03\n",
      "  -4.24492791e-03 -7.31530982e-03 -1.56573815e-02  1.01382247e-02\n",
      "  -2.22711263e-02 -1.69933360e-02 -2.75846063e-03  1.22895559e-02\n",
      "   1.30970591e-02 -1.15498263e-02 -1.77632196e-03 -1.51045638e-02\n",
      "   1.01120706e-02 -1.47656266e-02 -1.43195745e-03  1.03298378e-02\n",
      "  -2.22414029e-03  1.47016034e-02 -8.70008223e-03  3.69190470e-03\n",
      "   8.53282186e-03 -1.39711730e-03  1.38631426e-02  5.48129585e-03\n",
      "  -1.63744959e-02  3.95860270e-02  6.48643644e-03  1.07343294e-03\n",
      "  -1.39881282e-02  8.17678188e-04 -4.59942831e-03  6.44353666e-03\n",
      "   3.71670291e-03  1.85300949e-02  1.42251373e-03  5.13505480e-03\n",
      "   3.72456852e-03 -1.48489803e-03 -1.83400197e-03  1.10100020e-02\n",
      "   7.80027135e-03 -6.29441604e-03 -1.11343610e-02 -6.74100249e-04\n",
      "   1.16143998e-02 -2.75293863e-04  1.74643509e-02 -7.75070287e-03\n",
      "   1.41640538e-03 -2.51630386e-02 -5.95667881e-03 -3.09121319e-03\n",
      "   5.10937774e-03  1.71066184e-02  3.49435894e-04  1.45391758e-02\n",
      "   6.61681076e-03  9.86352180e-03 -4.66154857e-03  1.38499134e-02]\n",
      " [-1.07296428e-02  4.95158611e-03 -9.52062101e-03 -5.18145552e-03\n",
      "  -1.46140360e-02 -5.16347909e-03  3.51116897e-03 -6.87704631e-04\n",
      "  -1.34776494e-02  1.47073986e-02  3.37220938e-03  1.00806543e-02\n",
      "   7.85226920e-03 -6.64867767e-03 -1.94504696e-02 -9.15424368e-03\n",
      "   1.22515585e-02 -1.05354607e-02  8.16043684e-03 -6.12406973e-03\n",
      "   3.93109245e-03 -1.82391985e-02  1.16707517e-02 -3.96687001e-04\n",
      "   8.85825799e-03  1.89861649e-03  7.98063795e-03 -1.01932039e-03\n",
      "   7.43356544e-03 -1.50957268e-02 -1.08071069e-02  7.25474004e-03\n",
      "  -3.91782562e-04 -2.28754171e-03 -1.79612295e-03  5.01725109e-03\n",
      "  -5.93343754e-03  5.10307597e-03 -9.15791849e-03 -4.07252043e-03\n",
      "   9.84951672e-03  1.07125243e-02 -1.09715436e-02  8.38634747e-03\n",
      "  -1.03918232e-02  7.33023232e-03 -1.89881206e-02 -1.11711069e-02\n",
      "  -5.08972278e-03 -1.66485955e-03  1.42361443e-02  9.03999174e-03\n",
      "   1.57546791e-02  1.20660790e-02 -2.82863552e-03 -2.66326884e-03\n",
      "   1.06897162e-02  4.03714310e-04 -1.56993672e-03 -1.33520272e-02\n",
      "  -1.06460122e-03 -2.79099641e-02 -4.56117555e-03 -9.79890252e-03\n",
      "   6.92574348e-03 -4.78672356e-03 -3.29051549e-03  1.34710546e-02\n",
      "  -1.04906775e-02  3.16658895e-03 -1.89526695e-02  8.97291174e-04\n",
      "   4.10265745e-03  8.59870972e-03 -8.98683193e-03  3.19656942e-03\n",
      "   3.18154200e-03 -1.92316341e-04  1.50016279e-03  4.63534322e-03\n",
      "   3.97880425e-03 -9.96010889e-03 -1.19586151e-02  2.50598029e-02\n",
      "   1.91979229e-02 -1.39169388e-02  4.50217742e-03  6.27437083e-03\n",
      "   7.51337235e-03  1.40395436e-03 -9.26871939e-03 -1.82420406e-03\n",
      "  -4.91125138e-03  1.34373116e-03 -2.68371304e-03 -1.31675626e-03\n",
      "   1.01855247e-02  1.23055820e-02 -1.18110317e-02 -4.59930104e-03]\n",
      " [-7.90799954e-03  1.22372221e-02 -5.93679025e-04  1.44898940e-02\n",
      "  -4.77580855e-03  2.59999942e-04 -1.34869645e-02  1.30253554e-02\n",
      "  -3.62612088e-03 -1.48515645e-02 -5.92461285e-03 -2.30490794e-02\n",
      "  -3.18171727e-04  1.12487742e-03  2.88078167e-03  1.49810818e-02\n",
      "  -3.00976154e-03  8.07455917e-03  3.12238689e-03 -1.93321640e-03\n",
      "  -2.07680202e-02  9.47501167e-03 -5.03973949e-03  1.79558917e-04\n",
      "  -1.27046078e-02  2.82995534e-03  1.08030817e-03  2.94176190e-04\n",
      "  -1.34793129e-03  1.04921829e-02  9.66220863e-03  7.25916853e-03\n",
      "   3.32107876e-02 -6.00225330e-03 -3.79517516e-03 -1.01480369e-02\n",
      "   4.35986196e-03 -6.87487393e-03 -2.69836174e-02 -1.21333813e-02\n",
      "   7.22518992e-04  1.00978733e-02 -1.55694156e-02 -6.12442128e-03\n",
      "  -1.39351805e-03 -7.28537489e-03  5.31163793e-03  4.00084198e-05\n",
      "   3.21265914e-03 -7.25214926e-03  1.53653633e-02 -3.75008758e-06\n",
      "   1.29354962e-02 -4.38997664e-03  5.90039464e-03 -6.79383783e-03\n",
      "  -9.50909251e-03 -7.04350332e-03 -4.58666861e-04 -2.18733459e-03\n",
      "   1.53920701e-02 -1.14870423e-02 -1.09033833e-02  1.70018815e-02\n",
      "   6.08783659e-03 -1.88141087e-02  4.97269099e-03  2.37332699e-03\n",
      "  -2.14444405e-02 -3.69562425e-03 -1.74549518e-04  7.31402517e-03\n",
      "   9.54495667e-03  9.57467711e-04  1.03345080e-02 -1.46273275e-03\n",
      "  -8.57496825e-03 -9.34181843e-03  5.42645295e-03 -1.95816909e-02\n",
      "   6.77807571e-03 -1.10657307e-02 -3.59224096e-03  5.05381903e-03\n",
      "   1.21794090e-02 -1.94068096e-02 -8.06178212e-03  4.90616924e-04\n",
      "  -5.96086335e-03  8.61623101e-03 -2.08639057e-02  3.61801641e-03\n",
      "   4.25920177e-03  4.90803971e-04  1.10223673e-02 -1.22957425e-02\n",
      "   1.10861676e-02 -7.02920403e-03  7.25550518e-03 -3.24204219e-03]\n",
      " [ 8.14343129e-03  7.80469930e-03 -1.46405357e-02 -1.54491194e-03\n",
      "  -9.24323185e-04 -2.37875265e-03 -7.55662765e-03  1.85143789e-02\n",
      "   2.09096677e-03  1.55501599e-02 -5.69148654e-03 -1.06179676e-02\n",
      "   1.32247779e-03 -5.63236604e-03  2.39014596e-02  2.45422849e-03\n",
      "   1.15259914e-02 -2.24235772e-03 -3.26061306e-03 -3.09114176e-04\n",
      "   3.55717262e-03  8.49586845e-03 -1.22154015e-03 -6.80851574e-03\n",
      "  -1.06787658e-02 -7.66793627e-04  5.72962726e-03  4.57947076e-03\n",
      "  -1.78175491e-04 -6.00138799e-03  1.46765263e-03  5.71804879e-03\n",
      "  -3.68176565e-04  1.12368489e-03 -1.50504326e-03  9.15499268e-03\n",
      "  -4.38200267e-03  1.85535621e-03  3.94428030e-03  7.25522558e-03\n",
      "   1.49588477e-02  6.75453809e-03  5.99213235e-03 -1.47023709e-02\n",
      "   6.06403944e-03  2.29371761e-02 -8.30010986e-03 -1.01951985e-02\n",
      "  -2.14653842e-03  1.02124813e-02  5.24750492e-03 -4.77124206e-03\n",
      "  -3.59901817e-04  1.03703898e-02  6.72619748e-03  2.42887697e-02\n",
      "   1.00568668e-02  3.53567216e-03  6.14726276e-03 -3.48984191e-03\n",
      "  -9.77773002e-03  1.71957132e-03  4.90561044e-03 -1.39528303e-02\n",
      "  -5.22356465e-03 -3.69255902e-03  2.65642403e-03 -2.60466059e-03\n",
      "   4.45096710e-03  9.81122462e-04  1.06032751e-02 -1.71116766e-02\n",
      "   1.65712464e-02  1.41767401e-02  5.03170861e-04  6.50323214e-03\n",
      "   6.06548400e-03 -7.37289628e-03  1.64665066e-03  7.78174179e-03\n",
      "   3.09816759e-03  1.05132077e-02  9.49961101e-04  8.07509886e-04\n",
      "  -7.67803746e-03 -3.64538050e-03 -4.59717681e-03  1.70548352e-02\n",
      "   2.40505552e-03 -9.99426501e-03  3.98598388e-03 -1.92003697e-03\n",
      "  -3.05376438e-02  4.79852371e-03 -1.55269878e-02  5.78464420e-03\n",
      "  -9.61263599e-03 -1.45832446e-02  4.94341651e-03 -1.49419377e-02]\n",
      " [-4.46699203e-03  2.04377395e-03  6.12232523e-03  7.44884536e-03\n",
      "  -3.62812886e-04 -8.32395348e-03  1.92381543e-02 -6.05981321e-03\n",
      "   1.80358898e-02 -4.52524973e-03  1.16128569e-02  1.06996554e-02\n",
      "  -1.04553425e-02  3.55284507e-03  7.55392029e-03  7.00982122e-03\n",
      "  -1.98937450e-03  3.01960045e-03 -3.94689681e-03 -1.17181338e-02\n",
      "   9.84012237e-03 -5.59681422e-03  1.37975819e-02  6.02450901e-03\n",
      "  -8.92646674e-03 -1.61198320e-03 -2.86384915e-03 -8.70887650e-03\n",
      "   5.01429590e-03 -4.78614074e-03  1.63169151e-02  8.60891241e-03\n",
      "  -8.80189065e-03 -1.90005215e-04 -2.26760192e-03 -1.56450785e-02\n",
      "   9.31255679e-03  9.49808815e-03  9.25501215e-03 -4.56987858e-03\n",
      "   1.06898597e-02 -2.09752935e-03  9.35147780e-03  1.81252782e-02\n",
      "   1.40109881e-03 -1.41914878e-02 -3.16901197e-03  6.40985866e-03\n",
      "   1.21987438e-02 -1.13379204e-02 -1.90548298e-03  2.33339126e-03\n",
      "   4.34998324e-03  9.10423603e-03 -9.48439656e-03 -4.23478297e-03\n",
      "   1.00796648e-02  3.92334911e-03  4.48380651e-03  1.12532350e-02\n",
      "   1.04053390e-03  5.28003422e-03 -3.14563862e-03 -1.34501002e-02\n",
      "  -1.29525789e-02  7.43205537e-04 -1.99560718e-03 -6.54603169e-03\n",
      "   3.18014296e-03 -8.90271552e-03  1.11337266e-03 -1.95225583e-04\n",
      "  -8.39988915e-03 -2.29820588e-02  1.45652739e-02  3.16637236e-03\n",
      "  -2.66412594e-02 -4.26428618e-03  3.93787731e-03 -2.28140691e-03\n",
      "   5.80330113e-03 -9.73267585e-03  1.75167729e-03 -5.34836927e-04\n",
      "  -1.83061987e-03 -2.21028902e-03  1.99759555e-03  9.32721414e-03\n",
      "  -5.30119800e-03 -4.07240024e-03  1.60564992e-03 -1.20149976e-03\n",
      "   3.85602292e-03  7.18290736e-03  1.29118890e-02 -1.16444148e-03\n",
      "  -2.27729800e-02 -6.96245395e-04  3.53870427e-03 -1.86955017e-03]] \n",
      " [[0.]\n",
      " [0.]\n",
      " [0.]\n",
      " [0.]\n",
      " [0.]\n",
      " [0.]\n",
      " [0.]\n",
      " [0.]\n",
      " [0.]\n",
      " [0.]]\n",
      "Weights, Bias for layer 2: [[ 0.01624345 -0.00611756 -0.00528172 -0.01072969  0.00865408 -0.02301539\n",
      "   0.01744812 -0.00761207  0.00319039 -0.0024937 ]\n",
      " [ 0.01462108 -0.02060141 -0.00322417 -0.00384054  0.01133769 -0.01099891\n",
      "  -0.00172428 -0.00877858  0.00042214  0.00582815]\n",
      " [-0.01100619  0.01144724  0.00901591  0.00502494  0.00900856 -0.00683728\n",
      "  -0.0012289  -0.00935769 -0.00267888  0.00530355]] \n",
      " [[0.]\n",
      " [0.]\n",
      " [0.]]\n"
     ]
    }
   ],
   "source": [
    "parameters = []\n",
    "layer_one_param = initParameters(100, 10)\n",
    "parameters.append(layer_one_param)\n",
    "layer_two_param = initParameters(10, 3)\n",
    "parameters.append(layer_two_param)\n",
    "\n",
    "print(\"Weights, Bias for layer 1:\", parameters[0][0], \"\\n\", parameters[0][1])\n",
    "print(\"Weights, Bias for layer 2:\", parameters[1][0], \"\\n\", parameters[1][1])"
   ]
  },
  {
   "cell_type": "code",
   "execution_count": 7,
   "metadata": {},
   "outputs": [],
   "source": [
    "def sigmoid(X):\n",
    "    Y = 1/(1+np.exp(-X))\n",
    "    return Y"
   ]
  },
  {
   "cell_type": "code",
   "execution_count": 8,
   "metadata": {},
   "outputs": [],
   "source": [
    "def differentialSigmoid(X, delBack):\n",
    "    Y = 1/(1+np.exp(-X))\n",
    "    dX = delBack*Y*(1-Y)\n",
    "    assert(dX.shape == X.shape)\n",
    "    \n",
    "    return dX"
   ]
  },
  {
   "cell_type": "code",
   "execution_count": 9,
   "metadata": {},
   "outputs": [],
   "source": [
    "def linearForward(X, wts, bias):\n",
    "    Yin = np.dot(wts, X) + bias\n",
    "    \n",
    "    assert(Yin.shape == (wts.shape[0], X.shape[1]))\n",
    "    \n",
    "    return Yin"
   ]
  },
  {
   "cell_type": "code",
   "execution_count": 10,
   "metadata": {},
   "outputs": [],
   "source": [
    "def forwardActivation(X, wts, bias):\n",
    "    Yin = linearForward(X, wts, bias)\n",
    "    Y = sigmoid(Yin)\n",
    "    \n",
    "    assert(Y.shape == (wts.shape[0], X.shape[1]))\n",
    "    \n",
    "    return Y, Yin"
   ]
  },
  {
   "cell_type": "code",
   "execution_count": 11,
   "metadata": {},
   "outputs": [],
   "source": [
    "def linearBackProp(delY, layerCache):\n",
    "    Yin, X, wts, bias, Yout = layerCache\n",
    "    dY = differentialSigmoid(Yin, delY)\n",
    "    m = X.shape[1]\n",
    "    dW = np.dot(dY, X.T)*1.0/m\n",
    "    dB = np.sum(dY, axis = 1, keepdims = True)\n",
    "    dX = np.dot(wts.T, dY)\n",
    "    return dX, dW, dB"
   ]
  },
  {
   "cell_type": "code",
   "execution_count": 12,
   "metadata": {},
   "outputs": [],
   "source": [
    "def computeCost(Y, target):\n",
    "    m = Y.shape[1]\n",
    "    error = np.sum(np.power(Y-target, 2))\n",
    "    cost = np.squeeze(error/m)\n",
    "    return (cost, error)"
   ]
  },
  {
   "cell_type": "code",
   "execution_count": 13,
   "metadata": {},
   "outputs": [],
   "source": [
    "def update_param(parameters, delParams, alpha):\n",
    "    \n",
    "    L = len(delParams)\n",
    "    \n",
    "    for i in range(L):\n",
    "        parameters[i][0] -= alpha * delParams[i][0]\n",
    "        parameters[i][1] -= alpha * delParams[i][1]\n",
    "    return parameters"
   ]
  },
  {
   "cell_type": "code",
   "execution_count": 14,
   "metadata": {},
   "outputs": [],
   "source": [
    "def trainModel(inputMatrix, outputMatrix, parameters, alpha = 0.05):\n",
    "    wts = []\n",
    "    bias = []\n",
    "    costs = []\n",
    "    layerCache = []\n",
    "    grad = []\n",
    "    epochCount = 0\n",
    "    \n",
    "    stopCondition = False\n",
    "    \n",
    "    while(not stopCondition and epochCount<100000):\n",
    "        for param in parameters:\n",
    "            wts.append(param[0])\n",
    "            bias.append(param[1])\n",
    "        \n",
    "        Y = inputMatrix\n",
    "        epochCount += 1\n",
    "        error = 0\n",
    "        layerCache = []\n",
    "        for i in range(len(parameters)):\n",
    "            inputgrid = Y\n",
    "            Y, Yin = forwardActivation(inputgrid, wts[i], bias[i])\n",
    "            layerCache.append((Yin, inputgrid, wts[i], bias[i], Y))\n",
    "            \n",
    "        cost, error = computeCost(Y, outputMatrix)\n",
    "        \n",
    "#         if(epochCount%200==0):\n",
    "#             print(\"iteration #{} \\n  Cost: {} \\n  Error: {}\".format(epochCount, cost, error))\n",
    "        \n",
    "        #  error backpropagation\n",
    "        \n",
    "        delY = -2*(outputMatrix - Y)\n",
    "        \n",
    "        delH, delWh, delBh = linearBackProp(delY, layerCache[1])\n",
    "        delX, delWx, delBx = linearBackProp(delH, layerCache[0])\n",
    "        \n",
    "        delParams = [[delWx, delBx],[delWh, delBh]]\n",
    "        \n",
    "        parameters = update_param(parameters, delParams, alpha)\n",
    "        \n",
    "        if(error<0.005):\n",
    "            stopCondition = True\n",
    "    print(\"iteration #{} \\n  Cost: {} \\n  Error: {}\".format(epochCount, cost, error))\n",
    "    return parameters"
   ]
  },
  {
   "cell_type": "code",
   "execution_count": 15,
   "metadata": {},
   "outputs": [
    {
     "name": "stdout",
     "output_type": "stream",
     "text": [
      "iteration #5136 \n",
      "  Cost: 0.0003332898859822662 \n",
      "  Error: 0.004999348289733993\n"
     ]
    }
   ],
   "source": [
    "parameters = trainModel(inputMatrix, outputMatrix, parameters, 0.5)"
   ]
  },
  {
   "cell_type": "code",
   "execution_count": 16,
   "metadata": {},
   "outputs": [],
   "source": [
    "def testModel(folderPath, parameters):\n",
    "    \n",
    "    images, test_input  = getInputFeature(folderPath, False)\n",
    "\n",
    "    print(\"Input:\\n\",len(test_input))\n",
    "    Y = test_input\n",
    "    Y=np.array(Y).T\n",
    "    wts = []\n",
    "    bias = []\n",
    "    for param in parameters:\n",
    "            wts.append(param[0])\n",
    "            bias.append(param[1])\n",
    "    for i in range(len(parameters)):\n",
    "            inputgrid = Y\n",
    "            Y, Yin = forwardActivation(inputgrid, wts[i], bias[i])\n",
    "    Y = Y.T\n",
    "    for case in range(len(Y)):\n",
    "        pyplot.imshow(images[case][0])\n",
    "        pyplot.show()\n",
    "        print(images[case][1])\n",
    "        \n",
    "        temp=Y[case].tolist()\n",
    "        ans_idx=temp.index(max(temp))\n",
    "        \n",
    "        print(temp)\n",
    "        if(ans_idx==0):\n",
    "            print(\"predicted P\")\n",
    "        elif(ans_idx==1):\n",
    "            print(\"predicted N\")\n",
    "        else:\n",
    "            print(\"predicted A\")\n",
    "    "
   ]
  },
  {
   "cell_type": "code",
   "execution_count": 17,
   "metadata": {},
   "outputs": [
    {
     "name": "stdout",
     "output_type": "stream",
     "text": [
      "Input:\n",
      " 3\n"
     ]
    },
    {
     "data": {
      "image/png": "[encoded data removed]",
      "text/plain": [
       "<Figure size 432x288 with 1 Axes>"
      ]
     },
     "metadata": {
      "needs_background": "light"
     },
     "output_type": "display_data"
    },
    {
     "name": "stdout",
     "output_type": "stream",
     "text": [
      "testdb/N1.png\n",
      "[0.010291986771646382, 0.9720852356615571, 0.021014529590814776]\n",
      "predicted N\n"
     ]
    },
    {
     "data": {
      "image/png": "[encoded data removed]",
      "text/plain": [
       "<Figure size 432x288 with 1 Axes>"
      ]
     },
     "metadata": {
      "needs_background": "light"
     },
     "output_type": "display_data"
    },
    {
     "name": "stdout",
     "output_type": "stream",
     "text": [
      "testdb/P1.png\n",
      "[0.8057873478670691, 0.25684655586632993, 0.003533987512472356]\n",
      "predicted P\n"
     ]
    },
    {
     "data": {
      "image/png": "[encoded data removed]",
      "text/plain": [
       "<Figure size 432x288 with 1 Axes>"
      ]
     },
     "metadata": {
      "needs_background": "light"
     },
     "output_type": "display_data"
    },
    {
     "name": "stdout",
     "output_type": "stream",
     "text": [
      "testdb/A1.png\n",
      "[0.0024164818952874955, 0.03420853835186503, 0.9685239394300417]\n",
      "predicted A\n",
      "Input:\n",
      " 15\n"
     ]
    },
    {
     "data": {
      "image/png": "[encoded data removed]",
      "text/plain": [
       "<Figure size 432x288 with 1 Axes>"
      ]
     },
     "metadata": {
      "needs_background": "light"
     },
     "output_type": "display_data"
    },
    {
     "name": "stdout",
     "output_type": "stream",
     "text": [
      "traindb/p2.png\n",
      "[0.9914911750648441, 0.009663396742748883, 0.002985860687966048]\n",
      "predicted P\n"
     ]
    },
    {
     "data": {
      "image/png": "[encoded data removed]",
      "text/plain": [
       "<Figure size 432x288 with 1 Axes>"
      ]
     },
     "metadata": {
      "needs_background": "light"
     },
     "output_type": "display_data"
    },
    {
     "name": "stdout",
     "output_type": "stream",
     "text": [
      "traindb/n3.png\n",
      "[0.012906478970041126, 0.9863739312384504, 0.009237760270116241]\n",
      "predicted N\n"
     ]
    },
    {
     "data": {
      "image/png": "[encoded data removed]",
      "text/plain": [
       "<Figure size 432x288 with 1 Axes>"
      ]
     },
     "metadata": {
      "needs_background": "light"
     },
     "output_type": "display_data"
    },
    {
     "name": "stdout",
     "output_type": "stream",
     "text": [
      "traindb/a5.png\n",
      "[0.0026756527695621056, 0.010716200992441687, 0.9870990690064821]\n",
      "predicted A\n"
     ]
    },
    {
     "data": {
      "image/png": "[encoded data removed]",
      "text/plain": [
       "<Figure size 432x288 with 1 Axes>"
      ]
     },
     "metadata": {
      "needs_background": "light"
     },
     "output_type": "display_data"
    },
    {
     "name": "stdout",
     "output_type": "stream",
     "text": [
      "traindb/p3.png\n",
      "[0.9891284129822147, 0.010218782532561088, 0.0035982173170702224]\n",
      "predicted P\n"
     ]
    },
    {
     "data": {
      "image/png": "[encoded data removed]",
      "text/plain": [
       "<Figure size 432x288 with 1 Axes>"
      ]
     },
     "metadata": {
      "needs_background": "light"
     },
     "output_type": "display_data"
    },
    {
     "name": "stdout",
     "output_type": "stream",
     "text": [
      "traindb/n1.png\n",
      "[0.009553342010904542, 0.9871440294442537, 0.011660164059665322]\n",
      "predicted N\n"
     ]
    },
    {
     "data": {
      "image/png": "[encoded data removed]",
      "text/plain": [
       "<Figure size 432x288 with 1 Axes>"
      ]
     },
     "metadata": {
      "needs_background": "light"
     },
     "output_type": "display_data"
    },
    {
     "name": "stdout",
     "output_type": "stream",
     "text": [
      "traindb/p1.png\n",
      "[0.9883947404634913, 0.012514424448056779, 0.0032089080693394325]\n",
      "predicted P\n"
     ]
    },
    {
     "data": {
      "image/png": "[encoded data removed]",
      "text/plain": [
       "<Figure size 432x288 with 1 Axes>"
      ]
     },
     "metadata": {
      "needs_background": "light"
     },
     "output_type": "display_data"
    },
    {
     "name": "stdout",
     "output_type": "stream",
     "text": [
      "traindb/n2.png\n",
      "[0.013927641048001791, 0.9868415067496225, 0.008351668161757189]\n",
      "predicted N\n"
     ]
    },
    {
     "data": {
      "image/png": "[encoded data removed]",
      "text/plain": [
       "<Figure size 432x288 with 1 Axes>"
      ]
     },
     "metadata": {
      "needs_background": "light"
     },
     "output_type": "display_data"
    },
    {
     "name": "stdout",
     "output_type": "stream",
     "text": [
      "traindb/n4.png\n",
      "[0.013927641048001791, 0.9868415067496225, 0.008351668161757189]\n",
      "predicted N\n"
     ]
    },
    {
     "data": {
      "image/png": "[encoded data removed]",
      "text/plain": [
       "<Figure size 432x288 with 1 Axes>"
      ]
     },
     "metadata": {
      "needs_background": "light"
     },
     "output_type": "display_data"
    },
    {
     "name": "stdout",
     "output_type": "stream",
     "text": [
      "traindb/a1.png\n",
      "[0.0022290993677809385, 0.011256726050803407, 0.9886508562133858]\n",
      "predicted A\n"
     ]
    },
    {
     "data": {
      "image/png": "[encoded data removed]",
      "text/plain": [
       "<Figure size 432x288 with 1 Axes>"
      ]
     },
     "metadata": {
      "needs_background": "light"
     },
     "output_type": "display_data"
    },
    {
     "name": "stdout",
     "output_type": "stream",
     "text": [
      "traindb/a4.png\n",
      "[0.0024996600517531112, 0.00995008522557892, 0.9886272627801562]\n",
      "predicted A\n"
     ]
    },
    {
     "data": {
      "image/png": "[encoded data removed]",
      "text/plain": [
       "<Figure size 432x288 with 1 Axes>"
      ]
     },
     "metadata": {
      "needs_background": "light"
     },
     "output_type": "display_data"
    },
    {
     "name": "stdout",
     "output_type": "stream",
     "text": [
      "traindb/a3.png\n",
      "[0.002324038779257164, 0.011872257243734146, 0.9876562677876972]\n",
      "predicted A\n"
     ]
    },
    {
     "data": {
      "image/png": "[encoded data removed]",
      "text/plain": [
       "<Figure size 432x288 with 1 Axes>"
      ]
     },
     "metadata": {
      "needs_background": "light"
     },
     "output_type": "display_data"
    },
    {
     "name": "stdout",
     "output_type": "stream",
     "text": [
      "traindb/p5.png\n",
      "[0.9902052631650071, 0.008961784145169268, 0.0036425177457701597]\n",
      "predicted P\n"
     ]
    },
    {
     "data": {
      "image/png": "[encoded data removed]",
      "text/plain": [
       "<Figure size 432x288 with 1 Axes>"
      ]
     },
     "metadata": {
      "needs_background": "light"
     },
     "output_type": "display_data"
    },
    {
     "name": "stdout",
     "output_type": "stream",
     "text": [
      "traindb/a2.png\n",
      "[0.0023769843899558323, 0.006493362375516721, 0.992451924808738]\n",
      "predicted A\n"
     ]
    },
    {
     "data": {
      "image/png": "[encoded data removed]",
      "text/plain": [
       "<Figure size 432x288 with 1 Axes>"
      ]
     },
     "metadata": {
      "needs_background": "light"
     },
     "output_type": "display_data"
    },
    {
     "name": "stdout",
     "output_type": "stream",
     "text": [
      "traindb/n5.png\n",
      "[0.011104172915169727, 0.9866877562501949, 0.01043128431187752]\n",
      "predicted N\n"
     ]
    },
    {
     "data": {
      "image/png": "[encoded data removed]",
      "text/plain": [
       "<Figure size 432x288 with 1 Axes>"
      ]
     },
     "metadata": {
      "needs_background": "light"
     },
     "output_type": "display_data"
    },
    {
     "name": "stdout",
     "output_type": "stream",
     "text": [
      "traindb/p4.png\n",
      "[0.981975995700449, 0.013078969630474691, 0.004739878292100937]\n",
      "predicted P\n"
     ]
    }
   ],
   "source": [
    "folderPath = [[\"testdb/\"], [\"traindb/\"]]\n",
    "testModel(folderPath[0], parameters)\n",
    "testModel(folderPath[1], parameters)"
   ]
  },
  {
   "cell_type": "code",
   "execution_count": 18,
   "metadata": {},
   "outputs": [],
   "source": [
    "def runPrediction(alpha):\n",
    "    folderPath = [\"traindb/p/\", \"traindb/n/\", \"traindb/a/\"]\n",
    "    images, inputMatrix, outputMatrix= getInputFeature(folderPath, True)\n",
    "\n",
    "    inputMatrix, outputMatrix = inputMatrix.T, outputMatrix.T\n",
    "        \n",
    "\n",
    "    parameters = []\n",
    "    layer_one_param = initParameters(100, 10)\n",
    "    layer_two_param = initParameters(10, 3)\n",
    "    \n",
    "    parameters.append(layer_one_param)\n",
    "    parameters.append(layer_two_param)\n",
    "    \n",
    "    parameters = trainModel(inputMatrix, outputMatrix, parameters, alpha)\n",
    "\n",
    "    \n",
    "    folderPath = [[\"testdb/\"], [\"traindb/\"]]\n",
    "    testModel(folderPath[0], parameters)\n"
   ]
  },
  {
   "cell_type": "markdown",
   "metadata": {},
   "source": [
    "## For each case we have taken threshold as \n",
    "cost < 0.005        \n",
    "    or          \n",
    "epoch > 100000"
   ]
  },
  {
   "cell_type": "code",
   "execution_count": 19,
   "metadata": {
    "scrolled": false
   },
   "outputs": [
    {
     "name": "stdout",
     "output_type": "stream",
     "text": [
      "For given learning rate, 0.01\n",
      "iteration #100000 \n",
      "  Cost: 0.0009774800005388972 \n",
      "  Error: 0.01466220000808346\n",
      "Input:\n",
      " 3\n"
     ]
    },
    {
     "data": {
      "image/png": "[encoded data removed]",
      "text/plain": [
       "<Figure size 432x288 with 1 Axes>"
      ]
     },
     "metadata": {
      "needs_background": "light"
     },
     "output_type": "display_data"
    },
    {
     "name": "stdout",
     "output_type": "stream",
     "text": [
      "testdb/N1.png\n",
      "[0.016883252370520737, 0.9548678814519037, 0.03454770782623038]\n",
      "predicted N\n"
     ]
    },
    {
     "data": {
      "image/png": "[encoded data removed]",
      "text/plain": [
       "<Figure size 432x288 with 1 Axes>"
      ]
     },
     "metadata": {
      "needs_background": "light"
     },
     "output_type": "display_data"
    },
    {
     "name": "stdout",
     "output_type": "stream",
     "text": [
      "testdb/P1.png\n",
      "[0.7729079886978012, 0.296955548468671, 0.005672193884511761]\n",
      "predicted P\n"
     ]
    },
    {
     "data": {
      "image/png": "[encoded data removed]",
      "text/plain": [
       "<Figure size 432x288 with 1 Axes>"
      ]
     },
     "metadata": {
      "needs_background": "light"
     },
     "output_type": "display_data"
    },
    {
     "name": "stdout",
     "output_type": "stream",
     "text": [
      "testdb/A1.png\n",
      "[0.0036919597616535136, 0.05204160484595443, 0.951855152495471]\n",
      "predicted A\n"
     ]
    }
   ],
   "source": [
    "print(\"For given learning rate, 0.01\")\n",
    "runPrediction(0.01)"
   ]
  },
  {
   "cell_type": "code",
   "execution_count": 20,
   "metadata": {
    "scrolled": false
   },
   "outputs": [
    {
     "name": "stdout",
     "output_type": "stream",
     "text": [
      "For given learning rate, 0.05\n",
      "iteration #51460 \n",
      "  Cost: 0.00033332626703373453 \n",
      "  Error: 0.004999894005506018\n",
      "Input:\n",
      " 3\n"
     ]
    },
    {
     "data": {
      "image/png": "[encoded data removed]",
      "text/plain": [
       "<Figure size 432x288 with 1 Axes>"
      ]
     },
     "metadata": {
      "needs_background": "light"
     },
     "output_type": "display_data"
    },
    {
     "name": "stdout",
     "output_type": "stream",
     "text": [
      "testdb/N1.png\n",
      "[0.010242963372483859, 0.9720215088637968, 0.0211598353771494]\n",
      "predicted N\n"
     ]
    },
    {
     "data": {
      "image/png": "[encoded data removed]",
      "text/plain": [
       "<Figure size 432x288 with 1 Axes>"
      ]
     },
     "metadata": {
      "needs_background": "light"
     },
     "output_type": "display_data"
    },
    {
     "name": "stdout",
     "output_type": "stream",
     "text": [
      "testdb/P1.png\n",
      "[0.8075874387354198, 0.25892214967695343, 0.00349551918265632]\n",
      "predicted P\n"
     ]
    },
    {
     "data": {
      "image/png": "[encoded data removed]",
      "text/plain": [
       "<Figure size 432x288 with 1 Axes>"
      ]
     },
     "metadata": {
      "needs_background": "light"
     },
     "output_type": "display_data"
    },
    {
     "name": "stdout",
     "output_type": "stream",
     "text": [
      "testdb/A1.png\n",
      "[0.002350421795882471, 0.03411481630296696, 0.9688187919114383]\n",
      "predicted A\n"
     ]
    }
   ],
   "source": [
    "print(\"For given learning rate, 0.05\")\n",
    "runPrediction(0.05)"
   ]
  },
  {
   "cell_type": "code",
   "execution_count": 21,
   "metadata": {
    "scrolled": false
   },
   "outputs": [
    {
     "name": "stdout",
     "output_type": "stream",
     "text": [
      "For given learning rate, 0.1\n",
      "iteration #25727 \n",
      "  Cost: 0.00033332149521798996 \n",
      "  Error: 0.004999822428269849\n",
      "Input:\n",
      " 3\n"
     ]
    },
    {
     "data": {
      "image/png": "[encoded data removed]",
      "text/plain": [
       "<Figure size 432x288 with 1 Axes>"
      ]
     },
     "metadata": {
      "needs_background": "light"
     },
     "output_type": "display_data"
    },
    {
     "name": "stdout",
     "output_type": "stream",
     "text": [
      "testdb/N1.png\n",
      "[0.010245950739296057, 0.9720256391270792, 0.02114983525088259]\n",
      "predicted N\n"
     ]
    },
    {
     "data": {
      "image/png": "[encoded data removed]",
      "text/plain": [
       "<Figure size 432x288 with 1 Axes>"
      ]
     },
     "metadata": {
      "needs_background": "light"
     },
     "output_type": "display_data"
    },
    {
     "name": "stdout",
     "output_type": "stream",
     "text": [
      "testdb/P1.png\n",
      "[0.8074690787128449, 0.2587861336275012, 0.0034974399859946837]\n",
      "predicted P\n"
     ]
    },
    {
     "data": {
      "image/png": "[encoded data removed]",
      "text/plain": [
       "<Figure size 432x288 with 1 Axes>"
      ]
     },
     "metadata": {
      "needs_background": "light"
     },
     "output_type": "display_data"
    },
    {
     "name": "stdout",
     "output_type": "stream",
     "text": [
      "testdb/A1.png\n",
      "[0.0023532333978531243, 0.034117495561496104, 0.9688014087451716]\n",
      "predicted A\n"
     ]
    }
   ],
   "source": [
    "print(\"For given learning rate, 0.1\")\n",
    "runPrediction(0.1)"
   ]
  },
  {
   "cell_type": "code",
   "execution_count": 22,
   "metadata": {
    "scrolled": false
   },
   "outputs": [
    {
     "name": "stdout",
     "output_type": "stream",
     "text": [
      "For given learning rate, 0.2\n",
      "iteration #12860 \n",
      "  Cost: 0.0003333087738985026 \n",
      "  Error: 0.004999631608477539\n",
      "Input:\n",
      " 3\n"
     ]
    },
    {
     "data": {
      "image/png": "[encoded data removed]",
      "text/plain": [
       "<Figure size 432x288 with 1 Axes>"
      ]
     },
     "metadata": {
      "needs_background": "light"
     },
     "output_type": "display_data"
    },
    {
     "name": "stdout",
     "output_type": "stream",
     "text": [
      "testdb/N1.png\n",
      "[0.010253028602298734, 0.9720355048306633, 0.02112633618237471]\n",
      "predicted N\n"
     ]
    },
    {
     "data": {
      "image/png": "[encoded data removed]",
      "text/plain": [
       "<Figure size 432x288 with 1 Axes>"
      ]
     },
     "metadata": {
      "needs_background": "light"
     },
     "output_type": "display_data"
    },
    {
     "name": "stdout",
     "output_type": "stream",
     "text": [
      "testdb/P1.png\n",
      "[0.8071900649499596, 0.25846319306944304, 0.0035023539885329423]\n",
      "predicted P\n"
     ]
    },
    {
     "data": {
      "image/png": "[encoded data removed]",
      "text/plain": [
       "<Figure size 432x288 with 1 Axes>"
      ]
     },
     "metadata": {
      "needs_background": "light"
     },
     "output_type": "display_data"
    },
    {
     "name": "stdout",
     "output_type": "stream",
     "text": [
      "testdb/A1.png\n",
      "[0.0023606346022019566, 0.03412645607217934, 0.9687593511410334]\n",
      "predicted A\n"
     ]
    }
   ],
   "source": [
    "print(\"For given learning rate, 0.2\")\n",
    "runPrediction(0.2)"
   ]
  },
  {
   "cell_type": "code",
   "execution_count": 23,
   "metadata": {
    "scrolled": false
   },
   "outputs": [
    {
     "name": "stdout",
     "output_type": "stream",
     "text": [
      "For given learning rate, 0.4\n",
      "iteration #6424 \n",
      "  Cost: 0.00033331441002300055 \n",
      "  Error: 0.0049997161503450085\n",
      "Input:\n",
      " 3\n"
     ]
    },
    {
     "data": {
      "image/png": "[encoded data removed]",
      "text/plain": [
       "<Figure size 432x288 with 1 Axes>"
      ]
     },
     "metadata": {
      "needs_background": "light"
     },
     "output_type": "display_data"
    },
    {
     "name": "stdout",
     "output_type": "stream",
     "text": [
      "testdb/N1.png\n",
      "[0.010275126603830086, 0.9720632401344907, 0.021060844866283335]\n",
      "predicted N\n"
     ]
    },
    {
     "data": {
      "image/png": "[encoded data removed]",
      "text/plain": [
       "<Figure size 432x288 with 1 Axes>"
      ]
     },
     "metadata": {
      "needs_background": "light"
     },
     "output_type": "display_data"
    },
    {
     "name": "stdout",
     "output_type": "stream",
     "text": [
      "testdb/P1.png\n",
      "[0.8063738277452815, 0.2575258339971514, 0.0035195282292299563]\n",
      "predicted P\n"
     ]
    },
    {
     "data": {
      "image/png": "[encoded data removed]",
      "text/plain": [
       "<Figure size 432x288 with 1 Axes>"
      ]
     },
     "metadata": {
      "needs_background": "light"
     },
     "output_type": "display_data"
    },
    {
     "name": "stdout",
     "output_type": "stream",
     "text": [
      "testdb/A1.png\n",
      "[0.002388917901864655, 0.03416932161174164, 0.9686268581847736]\n",
      "predicted A\n"
     ]
    }
   ],
   "source": [
    "print(\"For given learning rate, 0.4\")\n",
    "runPrediction(0.4)"
   ]
  },
  {
   "cell_type": "code",
   "execution_count": 24,
   "metadata": {
    "scrolled": false
   },
   "outputs": [
    {
     "name": "stdout",
     "output_type": "stream",
     "text": [
      "For given learning rate, 0.8\n",
      "iteration #3203 \n",
      "  Cost: 0.00033324588719066053 \n",
      "  Error: 0.004998688307859908\n",
      "Input:\n",
      " 3\n"
     ]
    },
    {
     "data": {
      "image/png": "[encoded data removed]",
      "text/plain": [
       "<Figure size 432x288 with 1 Axes>"
      ]
     },
     "metadata": {
      "needs_background": "light"
     },
     "output_type": "display_data"
    },
    {
     "name": "stdout",
     "output_type": "stream",
     "text": [
      "testdb/N1.png\n",
      "[0.010377774683130142, 0.9721811304876952, 0.020861021284228932]\n",
      "predicted N\n"
     ]
    },
    {
     "data": {
      "image/png": "[encoded data removed]",
      "text/plain": [
       "<Figure size 432x288 with 1 Axes>"
      ]
     },
     "metadata": {
      "needs_background": "light"
     },
     "output_type": "display_data"
    },
    {
     "name": "stdout",
     "output_type": "stream",
     "text": [
      "testdb/P1.png\n",
      "[0.8037160758681988, 0.2541805721722357, 0.0036095805013784147]\n",
      "predicted P\n"
     ]
    },
    {
     "data": {
      "image/png": "[encoded data removed]",
      "text/plain": [
       "<Figure size 432x288 with 1 Axes>"
      ]
     },
     "metadata": {
      "needs_background": "light"
     },
     "output_type": "display_data"
    },
    {
     "name": "stdout",
     "output_type": "stream",
     "text": [
      "testdb/A1.png\n",
      "[0.00262665867165834, 0.03440748814922758, 0.968041581880116]\n",
      "predicted A\n"
     ]
    }
   ],
   "source": [
    "print(\"For given learning rate, 0.8\")\n",
    "runPrediction(0.8)"
   ]
  },
  {
   "cell_type": "code",
   "execution_count": null,
   "metadata": {},
   "outputs": [],
   "source": []
  }
 ],
 "metadata": {
  "kernelspec": {
   "display_name": "Python 3",
   "language": "python",
   "name": "python3"
  },
  "language_info": {
   "codemirror_mode": {
    "name": "ipython",
    "version": 3
   },
   "file_extension": ".py",
   "mimetype": "text/x-python",
   "name": "python",
   "nbconvert_exporter": "python",
   "pygments_lexer": "ipython3",
   "version": "3.8.3"
  }
 },
 "nbformat": 4,
 "nbformat_minor": 4
}
